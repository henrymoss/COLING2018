{
 "cells": [
  {
   "cell_type": "code",
   "execution_count": 1,
   "metadata": {},
   "outputs": [
    {
     "name": "stdout",
     "output_type": "stream",
     "text": [
      "Populating the interactive namespace from numpy and matplotlib\n"
     ]
    }
   ],
   "source": [
    "import matplotlib\n",
    "%pylab inline\n",
    "from scipy import stats\n",
    "import pandas as pd\n",
    "import os\n",
    "import pickle\n",
    "import sys\n",
    "import math\n",
    "import random\n",
    "import numpy as np\n",
    "import matplotlib.pyplot as plt\n",
    "import matplotlib.patches as mpatches\n",
    "rs=1234"
   ]
  },
  {
   "cell_type": "code",
   "execution_count": null,
   "metadata": {},
   "outputs": [],
   "source": [
    "#interactive script to collect results for tuning POS for Brown Corpus"
   ]
  },
  {
   "cell_type": "code",
   "execution_count": 3,
   "metadata": {},
   "outputs": [],
   "source": [
    "#parameter grid\n",
    "params=[0.001,0.005,0.01,0.05,0.1,0.5,1,5,10,50,100]\n"
   ]
  },
  {
   "cell_type": "code",
   "execution_count": 6,
   "metadata": {},
   "outputs": [
    {
     "name": "stdout",
     "output_type": "stream",
     "text": [
      "SD of tuned parameter is 19.790700347467467\n",
      "SD of performance estimate of tuned model is 0.0002678822018100495\n"
     ]
    }
   ],
   "source": [
    "\n",
    "\n",
    "# R is number of repetitions\n",
    "def repeatedchoicesplotter(R,K):\n",
    "    #input R: is nuber of repetitions R (defined as J in paper)\n",
    "    #input K: is number of folds (either 5,10)\n",
    "    #output: SD of tuned value by R-J-fold CV and SD of the prediciton error estiamte for the tuned model\n",
    "    values=[]\n",
    "    params=[0.001,0.005,0.01,0.05,0.1,0.5,1,5,10,50,100]\n",
    "    #load in data\n",
    "    #1000 independent prediction error estiamtes for each parameter value in the grid\n",
    "    if (K==5):\n",
    "        with open ('POSLR_differentpartitions_1000_5_folds', 'rb') as fp:\n",
    "            results = pickle.load(fp)\n",
    "    elif (K==10):\n",
    "        with open ('POSLR_differentpartitions_1000_10_folds', 'rb') as fp:\n",
    "            results = pickle.load(fp)    \n",
    "    else:\n",
    "        print(\"no precomputed data\")\n",
    "        return None\n",
    "    #group K-fold CV into groups of R to allow R-K-fold CV\n",
    "    for i in range(0,math.floor(1000/R)-1):\n",
    "        means=list(results[int(i*R)])\n",
    "        #average across R K-fold CV grid searches \n",
    "        for j in range(1,R):\n",
    "            new=results[i*R+j]\n",
    "            #for each param choice\n",
    "            for k in range(0,len(results[0])):\n",
    "                means[k]=means[k]+new[k]\n",
    "        for k in range(0,len(results[0])):\n",
    "            means[k]=means[k]/R\n",
    "        values.append(means)\n",
    "    repeatedchoices=[]\n",
    "    for i in range(0,len(values)):\n",
    "        #choose the maximum on the grid\n",
    "        repeatedchoices.append(params[np.argmax(values[i])])\n",
    "    repeatedscores=[]\n",
    "    for i in range(0,len(values)):\n",
    "        repeatedscores.append((np.max(values[i])))\n",
    "    print(\"SD of tuned parameter is \"+str(np.sqrt(np.var(repeatedchoices,ddof=1))))\n",
    "    print(\"SD of performance estimate of tuned model is \"+str(np.sqrt(np.var(repeatedscores,ddof=1))))\n",
    "    return [np.sqrt(np.var(repeatedchoices,ddof=1)),np.sqrt(np.var(repeatedscores,ddof=1))]\n",
    "\n",
    "    \n",
    "\n",
    "results=repeatedchoicesplotter(10,10)"
   ]
  }
 ],
 "metadata": {
  "kernelspec": {
   "display_name": "Python 3",
   "language": "python",
   "name": "python3"
  },
  "language_info": {
   "codemirror_mode": {
    "name": "ipython",
    "version": 3
   },
   "file_extension": ".py",
   "mimetype": "text/x-python",
   "name": "python",
   "nbconvert_exporter": "python",
   "pygments_lexer": "ipython3",
   "version": "3.6.3"
  }
 },
 "nbformat": 4,
 "nbformat_minor": 2
}
